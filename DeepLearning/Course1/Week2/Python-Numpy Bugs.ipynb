{
 "cells": [
  {
   "cell_type": "code",
   "execution_count": 1,
   "metadata": {},
   "outputs": [],
   "source": [
    "import numpy as np;\n",
    "\n",
    "a = np.random.randn(5);"
   ]
  },
  {
   "cell_type": "code",
   "execution_count": 2,
   "metadata": {},
   "outputs": [
    {
     "name": "stdout",
     "output_type": "stream",
     "text": [
      "[-0.99826248  0.02141927  0.66519194 -1.32456635 -0.17711206]\n"
     ]
    }
   ],
   "source": [
    "print(a)"
   ]
  },
  {
   "cell_type": "code",
   "execution_count": 3,
   "metadata": {},
   "outputs": [
    {
     "name": "stdout",
     "output_type": "stream",
     "text": [
      "(5,)\n"
     ]
    }
   ],
   "source": [
    "print(a.shape);"
   ]
  },
  {
   "cell_type": "code",
   "execution_count": 4,
   "metadata": {},
   "outputs": [
    {
     "name": "stdout",
     "output_type": "stream",
     "text": [
      "[-0.99826248  0.02141927  0.66519194 -1.32456635 -0.17711206]\n"
     ]
    }
   ],
   "source": [
    "print(a.T);"
   ]
  },
  {
   "cell_type": "code",
   "execution_count": 5,
   "metadata": {},
   "outputs": [
    {
     "name": "stdout",
     "output_type": "stream",
     "text": [
      "3.2253117939589986\n"
     ]
    }
   ],
   "source": [
    "print(np.dot(a, a.T));"
   ]
  },
  {
   "cell_type": "code",
   "execution_count": 6,
   "metadata": {},
   "outputs": [
    {
     "name": "stdout",
     "output_type": "stream",
     "text": [
      "[[ 0.73378156]\n",
      " [-1.97587504]\n",
      " [-0.32346363]\n",
      " [ 1.15305912]\n",
      " [ 0.09722465]]\n"
     ]
    }
   ],
   "source": [
    "a = np.random.randn(5,1);\n",
    "print(a)"
   ]
  },
  {
   "cell_type": "code",
   "execution_count": 7,
   "metadata": {},
   "outputs": [
    {
     "name": "stdout",
     "output_type": "stream",
     "text": [
      "[[ 0.73378156 -1.97587504 -0.32346363  1.15305912  0.09722465]]\n"
     ]
    }
   ],
   "source": [
    "print(a.T)"
   ]
  },
  {
   "cell_type": "code",
   "execution_count": 9,
   "metadata": {},
   "outputs": [
    {
     "name": "stdout",
     "output_type": "stream",
     "text": [
      "[[ 0.53843537 -1.44986066 -0.23735165  0.84609352  0.07134165]\n",
      " [-1.44986066  3.90408216  0.63912371 -2.27830074 -0.19210376]\n",
      " [-0.23735165  0.63912371  0.10462872 -0.37297269 -0.03144864]\n",
      " [ 0.84609352 -2.27830074 -0.37297269  1.32954534  0.11210577]\n",
      " [ 0.07134165 -0.19210376 -0.03144864  0.11210577  0.00945263]]\n"
     ]
    }
   ],
   "source": [
    "print(np.dot(a, a.T));"
   ]
  },
  {
   "cell_type": "code",
   "execution_count": null,
   "metadata": {},
   "outputs": [],
   "source": []
  }
 ],
 "metadata": {
  "kernelspec": {
   "display_name": "Python 3",
   "language": "python",
   "name": "python3"
  },
  "language_info": {
   "codemirror_mode": {
    "name": "ipython",
    "version": 3
   },
   "file_extension": ".py",
   "mimetype": "text/x-python",
   "name": "python",
   "nbconvert_exporter": "python",
   "pygments_lexer": "ipython3",
   "version": "3.6.4"
  }
 },
 "nbformat": 4,
 "nbformat_minor": 2
}
