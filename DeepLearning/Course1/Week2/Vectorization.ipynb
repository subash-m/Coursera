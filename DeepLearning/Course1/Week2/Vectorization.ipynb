{
 "cells": [
  {
   "cell_type": "code",
   "execution_count": 1,
   "metadata": {},
   "outputs": [
    {
     "name": "stdout",
     "output_type": "stream",
     "text": [
      "[1 2 3 4]\n"
     ]
    }
   ],
   "source": [
    "import numpy as np;\n",
    "\n",
    "a = np.array([1,2,3,4]);\n",
    "print(a)"
   ]
  },
  {
   "cell_type": "code",
   "execution_count": 21,
   "metadata": {},
   "outputs": [
    {
     "name": "stdout",
     "output_type": "stream",
     "text": [
      "250020.89115649735\n",
      "Vectorized version: 0.7767677307128906ms\n",
      "250020.8911565075\n",
      "For Loop: 323.7733840942383ms\n"
     ]
    }
   ],
   "source": [
    "import time\n",
    "\n",
    "a = np.random.rand(1000000)\n",
    "b = np.random.rand(1000000)\n",
    "\n",
    "tic = time.time();\n",
    "c = np.dot(a, b);\n",
    "toc = time.time();\n",
    "\n",
    "print(c)\n",
    "\n",
    "print(\"Vectorized version: \" + str(1000*(toc-tic)) + \"ms\");\n",
    "\n",
    "c = 0;\n",
    "tic = time.time();\n",
    "for i in range(1000000):\n",
    "    c += a[i] * b[i];\n",
    "toc = time.time();\n",
    "\n",
    "print(c)\n",
    "\n",
    "print(\"For Loop: \"+str(1000*(toc-tic)) + \"ms\");"
   ]
  },
  {
   "cell_type": "code",
   "execution_count": null,
   "metadata": {},
   "outputs": [],
   "source": []
  }
 ],
 "metadata": {
  "kernelspec": {
   "display_name": "Python 3",
   "language": "python",
   "name": "python3"
  },
  "language_info": {
   "codemirror_mode": {
    "name": "ipython",
    "version": 3
   },
   "file_extension": ".py",
   "mimetype": "text/x-python",
   "name": "python",
   "nbconvert_exporter": "python",
   "pygments_lexer": "ipython3",
   "version": "3.6.4"
  }
 },
 "nbformat": 4,
 "nbformat_minor": 2
}
